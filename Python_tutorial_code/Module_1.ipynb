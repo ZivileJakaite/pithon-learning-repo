{
 "cells": [
  {
   "cell_type": "code",
   "execution_count": 13,
   "metadata": {},
   "outputs": [
    {
     "name": "stdout",
     "output_type": "stream",
     "text": [
      "12\n"
     ]
    }
   ],
   "source": [
    "x = 3\n",
    "y = 9\n",
    "z = x + y\n",
    "print(z)"
   ]
  },
  {
   "cell_type": "code",
   "execution_count": 14,
   "metadata": {},
   "outputs": [
    {
     "name": "stdout",
     "output_type": "stream",
     "text": [
      "4\n"
     ]
    }
   ],
   "source": [
    "i = 1\n",
    "j = 3\n",
    "print(i+j)"
   ]
  },
  {
   "cell_type": "code",
   "execution_count": 15,
   "metadata": {},
   "outputs": [
    {
     "name": "stdout",
     "output_type": "stream",
     "text": [
      "Hello world!\n",
      "15\n",
      "2.0\n"
     ]
    }
   ],
   "source": [
    "x = 5\n",
    "y = 10\n",
    "\n",
    "z = x + y \n",
    "\n",
    "print(\"Hello world!\")\n",
    "\n",
    "print(z)\n",
    "\n",
    "j = y/x\n",
    "\n",
    "print(j)"
   ]
  },
  {
   "cell_type": "code",
   "execution_count": 16,
   "metadata": {},
   "outputs": [
    {
     "name": "stdout",
     "output_type": "stream",
     "text": [
      "<class 'int'>\n"
     ]
    }
   ],
   "source": [
    "print(type(z))"
   ]
  },
  {
   "cell_type": "code",
   "execution_count": 25,
   "metadata": {},
   "outputs": [
    {
     "name": "stdout",
     "output_type": "stream",
     "text": [
      "<class 'int'>\n"
     ]
    }
   ],
   "source": [
    "type_z = type(z)\n",
    "\n",
    "print(type_z)"
   ]
  },
  {
   "cell_type": "code",
   "execution_count": 26,
   "metadata": {},
   "outputs": [
    {
     "name": "stdout",
     "output_type": "stream",
     "text": [
      "10\n"
     ]
    }
   ],
   "source": [
    "x = 5\n",
    "x = 10\n",
    "\n",
    "print(x)"
   ]
  },
  {
   "cell_type": "code",
   "execution_count": 23,
   "metadata": {},
   "outputs": [
    {
     "name": "stdout",
     "output_type": "stream",
     "text": [
      "15\n"
     ]
    }
   ],
   "source": [
    "x = x + 1\n",
    "print (x)"
   ]
  },
  {
   "cell_type": "code",
   "execution_count": 28,
   "metadata": {},
   "outputs": [],
   "source": [
    "a = 2\n",
    "\n",
    "b = 3\n",
    "\n",
    "a * b\n",
    "\n",
    "c = a * b\n",
    "\n",
    "print(c)\n"
   ]
  },
  {
   "cell_type": "code",
   "execution_count": 29,
   "metadata": {},
   "outputs": [
    {
     "name": "stdout",
     "output_type": "stream",
     "text": [
      "6\n"
     ]
    }
   ],
   "source": [
    "print(c)"
   ]
  },
  {
   "cell_type": "code",
   "execution_count": 30,
   "metadata": {},
   "outputs": [
    {
     "name": "stdout",
     "output_type": "stream",
     "text": [
      "12.56\n"
     ]
    }
   ],
   "source": [
    "Pi = 3.14\n",
    "\n",
    "Area = Pi * 2**2\n",
    "\n",
    "print(Area)\n"
   ]
  },
  {
   "cell_type": "code",
   "execution_count": 38,
   "metadata": {},
   "outputs": [
    {
     "name": "stdout",
     "output_type": "stream",
     "text": [
      "Willrunning\n",
      "My name is: Will, and I like running.\n"
     ]
    }
   ],
   "source": [
    "name = \"Will\"\n",
    "hobby = \"running\"\n",
    "\n",
    "outcome = name + hobby\n",
    "\n",
    "print(outcome)\n",
    "\n",
    "outcome_2 = f\"My name is: {name}, and I like {hobby}.\"\n",
    "\n",
    "print(outcome_2)"
   ]
  },
  {
   "cell_type": "code",
   "execution_count": 36,
   "metadata": {},
   "outputs": [
    {
     "name": "stdout",
     "output_type": "stream",
     "text": [
      "CLAs per year\n"
     ]
    }
   ],
   "source": [
    "dropdown = \"CLAs \"\n",
    "\n",
    "Title = dropdown + \"per year\"\n",
    "\n",
    "print(Title)"
   ]
  },
  {
   "cell_type": "code",
   "execution_count": null,
   "metadata": {},
   "outputs": [],
   "source": []
  },
  {
   "cell_type": "code",
   "execution_count": 41,
   "metadata": {},
   "outputs": [
    {
     "name": "stdout",
     "output_type": "stream",
     "text": [
      "My name is, Zivile, and I work as an Analyst\n"
     ]
    }
   ],
   "source": [
    "Name = \"Zivile\"\n",
    "Job = \"Analyst\"\n",
    "\n",
    "Description = f\"My name is, {Name}, and I work as an {Job}\"\n",
    "\n",
    "print(Description)\n"
   ]
  },
  {
   "cell_type": "code",
   "execution_count": null,
   "metadata": {},
   "outputs": [],
   "source": [
    "email = www.william@escc.gov.uk\n",
    "\n",
    "filename  = \"CLA_PLANS.cvs\"\n",
    "\n"
   ]
  },
  {
   "cell_type": "code",
   "execution_count": 52,
   "metadata": {},
   "outputs": [
    {
     "name": "stdout",
     "output_type": "stream",
     "text": [
      "2\n",
      "7\n",
      "4567\n",
      "13579\n",
      "987654321\n"
     ]
    }
   ],
   "source": [
    "num_string = \"123456789\"\n",
    "\n",
    "sub_string = num_string[1]\n",
    "\n",
    "print(sub_string)\n",
    "\n",
    "sub_string_rhs = num_string[-3]\n",
    "\n",
    "print(sub_string_rhs)\n",
    "\n",
    "#range\n",
    "sub_range = num_string[3:7]\n",
    "print(sub_range)\n",
    "\n",
    "# steps between two numbers at a time\n",
    "step_range = num_string[::2]\n",
    "print(step_range)\n",
    "\n",
    "#reverse\n",
    "reverse = num_string[-1::-1]\n",
    "print(reverse)\n",
    "\n"
   ]
  },
  {
   "cell_type": "code",
   "execution_count": 61,
   "metadata": {},
   "outputs": [
    {
     "name": "stdout",
     "output_type": "stream",
     "text": [
      "cat \n",
      "dog\n",
      "racoon\n",
      "dog\n",
      "cat \n",
      "racoon\n"
     ]
    }
   ],
   "source": [
    "slice_this_phrase = \"dog cat racoon\"\n",
    "\n",
    "dog = slice_this_phrase[0:3]\n",
    "cat = slice_this_phrase[4:8]\n",
    "racoon = slice_this_phrase[8:15]\n",
    "\n",
    "print(cat)\n",
    "print(dog)\n",
    "print(racoon)\n",
    "\n",
    "print(slice_this_phrase[0:3])\n",
    "print(slice_this_phrase[4:8])\n",
    "print(slice_this_phrase[8:15])"
   ]
  },
  {
   "cell_type": "code",
   "execution_count": 1,
   "metadata": {},
   "outputs": [
    {
     "name": "stdout",
     "output_type": "stream",
     "text": [
      "{'Zivile': 'Performance Analyst', 'Teigan': 'Performance Officer', 'Felix': 'Data Officer'}\n",
      "['Zivile', 'Teigan', 'Felix']\n",
      "dict_items([('Zivile', 'Performance Analyst'), ('Teigan', 'Performance Officer'), ('Felix', 'Data Officer')])\n",
      "dict_keys(['Zivile', 'Teigan', 'Felix'])\n",
      "dict_values(['Performance Analyst', 'Performance Officer', 'Data Officer'])\n"
     ]
    }
   ],
   "source": [
    "job_titles = {'Zivile':'Performance Analyst',\n",
    "                     'Teigan':'Performance Officer',\n",
    "                     'Felix':'Data Officer'}\n",
    "# Here you can see I've stored strongs, lists, and even entire dictionaries inside strings                              \n",
    "print(job_titles) \n",
    "print(list(job_titles)) # list(d) will print the keys, in order from a dictionary\n",
    "print(job_titles.items()) # Prints all key:value pairs\n",
    "print(job_titles.keys()) # Prints all keys\n",
    "print(job_titles.values()) # Prints all values\n"
   ]
  },
  {
   "cell_type": "code",
   "execution_count": null,
   "metadata": {},
   "outputs": [],
   "source": [
    "#session2\n"
   ]
  }
 ],
 "metadata": {
  "kernelspec": {
   "display_name": "Python 3",
   "language": "python",
   "name": "python3"
  },
  "language_info": {
   "codemirror_mode": {
    "name": "ipython",
    "version": 3
   },
   "file_extension": ".py",
   "mimetype": "text/x-python",
   "name": "python",
   "nbconvert_exporter": "python",
   "pygments_lexer": "ipython3",
   "version": "3.10.13"
  }
 },
 "nbformat": 4,
 "nbformat_minor": 2
}

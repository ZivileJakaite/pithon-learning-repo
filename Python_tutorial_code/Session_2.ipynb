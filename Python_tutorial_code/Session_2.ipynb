{
 "cells": [
  {
   "cell_type": "code",
   "execution_count": 20,
   "metadata": {},
   "outputs": [
    {
     "name": "stdout",
     "output_type": "stream",
     "text": [
      "<class 'list'>\n",
      "green\n",
      "['red', 'blue', 'green', 'purple']\n",
      "['red', 'blue', 'green', 'purple', ['turquise', 'teal'], 'turquise', 'teal']\n",
      "['red', 'blue', 'green', 'purple', ['turquise', 'teal'], 'turquise', 'teal', 'g', 'r', 'e', 'y']\n",
      "['red', 'blue', 'green', ['turquise', 'teal'], 'turquise', 'teal', 'g', 'r', 'e', 'y']\n"
     ]
    }
   ],
   "source": [
    "#session 2\n",
    "\n",
    "#Making lists \n",
    "\n",
    "list_1 = []\n",
    "print(type(list_1))\n",
    "num_1 = 3\n",
    "\n",
    "colours = [\"red\", \"blue\", \"green\"]\n",
    "print(colours[-1])\n",
    "\n",
    "colours.append(\"purple\")\n",
    "print(colours)\n",
    "\n",
    "extra_colours = [\"turquise\", \"teal\"]\n",
    "colours.append(extra_colours)\n",
    "\n",
    "colours.extend(extra_colours)\n",
    "print(colours)\n",
    "\n",
    "#remember this changes the variable rather than makes a new one\n",
    "colours.extend(\"grey\")\n",
    "print(colours)\n",
    "\n",
    "#only removes the first one\n",
    "\n",
    "colours.extend([\"purple\", \"purple\", \"purple\"])\n",
    "colours.remove(\"purple\")\n",
    "colours.remove(\"purple\")\n",
    "colours.remove(\"purple\")\n",
    "colours.remove(\"purple\")\n",
    "print(colours)\n",
    "\n",
    "\n"
   ]
  },
  {
   "cell_type": "code",
   "execution_count": 27,
   "metadata": {},
   "outputs": [
    {
     "name": "stdout",
     "output_type": "stream",
     "text": [
      "['cake', 'cookie', 'carrot']\n",
      "['cake', 'cookie', 'carrot', 'cucumber']\n",
      "['cake', 'cookie', 'carrot', 'cucumber', 'chocolate']\n"
     ]
    }
   ],
   "source": [
    "food_1 = [\"cake\", \"cookie\", \"carrot\"]\n",
    "print(food_1)\n",
    "\n",
    "food_1.append(\"cucumber\")\n",
    "print(food_1)\n",
    "\n",
    "food_2 = [\"sausage\", \"chocolate\"]\n",
    "\n",
    "food_1.extend([\"sausage\", \"chocolate\"])\n",
    "food_1.remove(\"sausage\")\n",
    "print(food_1)\n"
   ]
  },
  {
   "cell_type": "code",
   "execution_count": 36,
   "metadata": {},
   "outputs": [
    {
     "name": "stdout",
     "output_type": "stream",
     "text": [
      "[2, 5, 7, 3, 1, 6, 4, 9]\n",
      "[1, 2, 3, 4, 5, 6, 7, 9]\n",
      "[9, 7, 6, 5, 4, 3, 2, 1]\n",
      "[1, 2, 3, 4, 5, 6, 7, 9]\n",
      "['cake', 'carrot', 'chocolate', 'cookie', 'cucumber']\n",
      "['burger', 'carrot', 'dragonfruit']\n"
     ]
    }
   ],
   "source": [
    "numbers = [2, 5, 7, 3, 1, 6, 4, 9]\n",
    "print(numbers)\n",
    "\n",
    "numbers.sort()\n",
    "print(numbers)\n",
    "\n",
    "numbers.sort(reverse=True)\n",
    "print(numbers)\n",
    "\n",
    "sorted_numbers = sorted(numbers)\n",
    "print(sorted_numbers)\n",
    "\n",
    "food_3 = [\"carrot\", \"burger\", \"dragonfruit\"]\n",
    "food_3.sort()\n",
    "print(food_3)\n",
    "\n",
    "food_1.sort()\n",
    "print(food_1)\n",
    "print(food_3)\n"
   ]
  },
  {
   "cell_type": "code",
   "execution_count": 44,
   "metadata": {},
   "outputs": [
    {
     "name": "stdout",
     "output_type": "stream",
     "text": [
      "{'Name': 'Will', 'Age': 30, 'Pets': '1', 'Food': ['cake', 'carrot', 'chocolate', 'cookie', 'cucumber'], 'Sport': 'Running', 'Colours': ['red', 'blue', 'green', ['turquise', 'teal'], 'turquise', 'teal', 'g', 'r', 'e', 'y']}\n",
      "Running\n",
      "['cake', 'carrot', 'chocolate', 'cookie', 'cucumber']\n"
     ]
    }
   ],
   "source": [
    "#dictionaries - enables to find things by one - useful storing tables that you can find each one by name or renaming variables by key\n",
    "#enables to store a bunch of related things\n",
    "#related variables and use it together\n",
    "#dict_1 = {key:value , key: value}\n",
    "#useful to write it on separate lines\n",
    "will = {\"Name\": \"Will\",\n",
    "         \"Age\":30,\n",
    "         \"Pets\": \"1\" ,\n",
    "         \"Food\": food_1,\n",
    "         \"Sport\": \"Running\",\n",
    "         \"Colours\": colours}\n",
    "\n",
    "\n",
    "print(will)\n",
    "\n",
    "\n",
    "print(will[\"Sport\"])\n",
    "print(will[\"Food\"])\n",
    "\n",
    "\n",
    "\n"
   ]
  },
  {
   "cell_type": "code",
   "execution_count": 48,
   "metadata": {},
   "outputs": [
    {
     "name": "stdout",
     "output_type": "stream",
     "text": [
      "Zivile\n",
      "31\n",
      "0\n",
      "Dessert\n",
      "Basketball\n",
      "Red\n"
     ]
    }
   ],
   "source": [
    "zivile = {\"Name\": \"Zivile\",\n",
    "          \"Age\":31,\n",
    "          \"Pets\":\"0\",\n",
    "          \"Food\": \"Dessert\",\n",
    "          \"Sport\": \"Basketball\",\n",
    "          \"Colours\": \"Red\"}\n",
    "\n",
    "print(zivile[\"Name\"])\n",
    "print(zivile[\"Age\"])\n",
    "print(zivile[\"Pets\"])\n",
    "print(zivile[\"Food\"])\n",
    "print(zivile[\"Sport\"])\n",
    "print(zivile[\"Colours\"])\n",
    "\n",
    "#look-up PEP 8 python - guide how to code in python"
   ]
  },
  {
   "cell_type": "code",
   "execution_count": 63,
   "metadata": {},
   "outputs": [
    {
     "name": "stdout",
     "output_type": "stream",
     "text": [
      "dict_keys(['Will', 'Andy', 'Annie'])\n",
      "Purple\n",
      "['red', 'blue', 'green', ['turquise', 'teal'], 'turquise', 'teal', 'g', 'r', 'e', 'y']\n",
      "dict_items([('Will', 'Purple'), ('Andy', ['Purple', 'Teal']), ('Annie', {'Monday': 'Red', 'Rest of the week': ['red', 'blue', 'green', ['turquise', 'teal'], 'turquise', 'teal', 'g', 'r', 'e', 'y']})])\n",
      "dict_keys(['Will', 'Andy', 'Annie'])\n",
      "dict_values(['Purple', ['Purple', 'Teal'], {'Monday': 'Red', 'Rest of the week': ['red', 'blue', 'green', ['turquise', 'teal'], 'turquise', 'teal', 'g', 'r', 'e', 'y']}])\n",
      "dict_items([('Will', 'Purple'), ('Andy', ['Purple', 'Teal']), ('Annie', {'Monday': 'Red', 'Rest of the week': ['red', 'blue', 'green', ['turquise', 'teal'], 'turquise', 'teal', 'g', 'r', 'e', 'y']})])\n",
      "{'Will': 'Purple', 'Andy': ['Purple', 'Teal'], 'Annie': {'Monday': 'Red', 'Rest of the week': ['red', 'blue', 'green', ['turquise', 'teal'], 'turquise', 'teal', 'g', 'r', 'e', 'y']}, 'Zivile': 'Red'}\n",
      "{'Will': 'Purple', 'Andy': ['Purple', 'Teal'], 'Annie': 'Gold', 'Zivile': 'Red'}\n",
      "False\n",
      "True\n"
     ]
    }
   ],
   "source": [
    "fav_cols = {\"Will\": \"Purple\",\n",
    "            \"Andy\": [\"Purple\", \"Teal\"],\n",
    "            \"Annie\": {\"Monday\": \"Red\",\n",
    "                     \"Rest of the week\":colours}}\n",
    "\n",
    "print(fav_cols.keys())     \n",
    "\n",
    "print(fav_cols[\"Andy\"][0])\n",
    "print(fav_cols[\"Annie\"][\"Rest of the week\"])\n",
    "print(fav_cols.items())\n",
    "\n",
    "#names\n",
    "print(fav_cols.keys())  \n",
    "#items \n",
    "print(fav_cols.values())\n",
    "#both\n",
    "print(fav_cols.items())\n",
    "\n",
    "#adding a value to the dictionary\n",
    "fav_cols[\"Zivile\"] = \"Red\"\n",
    "print(fav_cols)\n",
    "\n",
    "#changing values in the dictionary\n",
    "fav_cols[\"Annie\"] = \"Gold\"\n",
    "print(fav_cols)\n",
    "\n",
    "#finding a key in the dictionary\n",
    "\n",
    "print(\"Mo\" in fav_cols)\n",
    "print(\"Annie\" in fav_cols)"
   ]
  },
  {
   "cell_type": "code",
   "execution_count": 72,
   "metadata": {},
   "outputs": [
    {
     "name": "stdout",
     "output_type": "stream",
     "text": [
      "dict_keys(['Will', 'Annie', 'Robert'])\n",
      "dict_values(['Trainer', ['Analyst', 'Lecturer'], 'Builder'])\n",
      "dict_items([('Will', 'Trainer'), ('Annie', ['Analyst', 'Lecturer']), ('Robert', 'Builder')])\n",
      "{'Will': 'Trainer', 'Annie': ['Analyst', 'Lecturer'], 'Robert': 'Builder', 'Zivile': 'Performance Analyst'}\n",
      "{'Will': 'Data Manager', 'Annie': ['Analyst', 'Lecturer'], 'Robert': 'Builder', 'Zivile': 'Performance Analyst'}\n"
     ]
    }
   ],
   "source": [
    "dic_1 = {\"Will\": \"Trainer\",\n",
    "            \"Annie\": [\"Analyst\", \"Lecturer\"],\n",
    "            \"Robert\": \"Builder\"}\n",
    "\n",
    "   #names\n",
    "print(dic_1.keys())  \n",
    "#items \n",
    "print(dic_1.values())\n",
    "#both\n",
    "print(dic_1.items())    \n",
    "\n",
    "dic_1[\"Zivile\"] = \"Performance Analyst\"\n",
    "print(dic_1)\n",
    "\n",
    "dic_1[\"Will\"] = \"Data Manager\"\n",
    "print(dic_1)\n"
   ]
  }
 ],
 "metadata": {
  "kernelspec": {
   "display_name": "Python 3",
   "language": "python",
   "name": "python3"
  },
  "language_info": {
   "codemirror_mode": {
    "name": "ipython",
    "version": 3
   },
   "file_extension": ".py",
   "mimetype": "text/x-python",
   "name": "python",
   "nbconvert_exporter": "python",
   "pygments_lexer": "ipython3",
   "version": "3.10.13"
  }
 },
 "nbformat": 4,
 "nbformat_minor": 2
}
